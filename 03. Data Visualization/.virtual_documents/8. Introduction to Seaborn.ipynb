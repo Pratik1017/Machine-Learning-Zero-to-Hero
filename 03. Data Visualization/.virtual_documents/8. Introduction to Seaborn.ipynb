


import numpy as np
import seaborn as sns


sns.set_theme(style="dark")


x = np.array([1, 3, 4, 5, 6, 77, 7, 8, 8, 4, 34, 3, 43, 43, 43, 78, 89,90])


y = np.sin(x)


sns.lineplot(x=x, y=y)



