import matplotlib.pyplot as plt


num = [1,2,3,4,5,6,7,8,9,10]
double = [i*2 for i in num]
square = [i**2 for i in num]

plt.subplot(1,2,1)
plt.plot(num , double)
plt.title("Double Value")
plt.xlabel("Numbers")
plt.ylabel("Double")

plt.subplot(1,2,2)
plt.plot(num , square)
plt.title("Square Value")
plt.xlabel("Numbers")
plt.ylabel("Square")
plt.tight_layout()


number = [1,2,3,4,5]
s = [i**2 for i in number]
a = [i+i for i in number]
m = [i*i for i in number]
d = [i*2 for i in number]

plt.subplot(2,2,1)
plt.plot(number , s)
plt.title("Square Value")
plt.xlabel("Numbers")
plt.ylabel("Square")

plt.subplot(2,2,2)
plt.plot(number , s)
plt.title("Add Value")
plt.xlabel("Numbers")
plt.ylabel("Add")

plt.subplot(2,2,3)
plt.plot(number , m)
plt.title("Multiply Value")
plt.xlabel("Numbers")
plt.ylabel("Multiply")

plt.subplot(2,2,4)
plt.plot(number , d)
plt.title("Double Value")
plt.xlabel("Numbers")
plt.ylabel("Double")
plt.tight_layout()









