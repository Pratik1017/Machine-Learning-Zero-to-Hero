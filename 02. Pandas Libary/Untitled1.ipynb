{
 "cells": [
  {
   "cell_type": "code",
   "execution_count": 6,
   "id": "538872b0-2d34-4e74-8da4-508e9c8044eb",
   "metadata": {},
   "outputs": [
    {
     "name": "stdout",
     "output_type": "stream",
     "text": [
      "DataFrame from Dictionary:\n",
      "      Name  Age      City\n",
      "0    Alice   25  New York\n",
      "1      Bob   30     Paris\n",
      "2  Charlie   35    London\n",
      "3    David   28     Tokyo\n",
      "\n",
      "==============================\n",
      "\n",
      "DataFrame from List of Lists:\n",
      "      Name  Age      City\n",
      "0    Alice   25  New York\n",
      "1      Bob   30     Paris\n",
      "2  Charlie   35    London\n",
      "3    David   28     Tokyo\n"
     ]
    }
   ],
   "source": [
    "import pandas as pd\n",
    "\n",
    "# --- Create a DataFrame from a Dictionary ---\n",
    "# The keys become column names, and values become column data.\n",
    "data_dict = {\n",
    "    'Name': ['Alice', 'Bob', 'Charlie', 'David'],\n",
    "    'Age': [25, 30, 35, 28],\n",
    "    'City': ['New York', 'Paris', 'London', 'Tokyo']\n",
    "}\n",
    "df_from_dict = pd.DataFrame(data_dict)\n",
    "print(\"DataFrame from Dictionary:\")\n",
    "print(df_from_dict)\n",
    "print(\"\\n\" + \"=\"*30 + \"\\n\")\n",
    "\n",
    "\n",
    "# --- Create a DataFrame from a List of Lists ---\n",
    "# You must also provide the column names separately.\n",
    "data_list = [\n",
    "    ['Alice', 25, 'New York'],\n",
    "    ['Bob', 30, 'Paris'],\n",
    "    ['Charlie', 35, 'London'],\n",
    "    ['David', 28, 'Tokyo']\n",
    "]\n",
    "columns_list = ['Name', 'Age', 'City']\n",
    "df_from_list = pd.DataFrame(data_list, columns=columns_list)\n",
    "print(\"DataFrame from List of Lists:\")\n",
    "print(df_from_list)\n"
   ]
  },
  {
   "cell_type": "code",
   "execution_count": null,
   "id": "8f7be41f-d7c8-4fee-8494-441c93ba23df",
   "metadata": {},
   "outputs": [],
   "source": []
  },
  {
   "cell_type": "code",
   "execution_count": null,
   "id": "ff7d204d-c720-48d2-94b8-71804371e89e",
   "metadata": {},
   "outputs": [],
   "source": []
  }
 ],
 "metadata": {
  "kernelspec": {
   "display_name": "Python [conda env:base] *",
   "language": "python",
   "name": "conda-base-py"
  },
  "language_info": {
   "codemirror_mode": {
    "name": "ipython",
    "version": 3
   },
   "file_extension": ".py",
   "mimetype": "text/x-python",
   "name": "python",
   "nbconvert_exporter": "python",
   "pygments_lexer": "ipython3",
   "version": "3.12.7"
  }
 },
 "nbformat": 4,
 "nbformat_minor": 5
}
