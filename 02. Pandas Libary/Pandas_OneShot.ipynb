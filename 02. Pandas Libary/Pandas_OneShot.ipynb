{
 "cells": [
  {
   "cell_type": "code",
   "execution_count": 3,
   "id": "aeb3672b-c795-46a2-a457-6400cab3433d",
   "metadata": {},
   "outputs": [
    {
     "name": "stdout",
     "output_type": "stream",
     "text": [
      "0    10\n",
      "1    20\n",
      "2    30\n",
      "3    40\n",
      "dtype: int64\n",
      "a    10\n",
      "b    20\n",
      "c    30\n",
      "dtype: int64\n"
     ]
    }
   ],
   "source": [
    "import pandas as pd\n",
    "s = pd.Series([10, 20, 30, 40])\n",
    "p = pd.Series([10, 20, 30], index=[\"a\", \"b\", \"c\"])\n",
    "print(s)     # Notice the automatic index we can give any other aswell\n",
    "print(p)"
   ]
  },
  {
   "cell_type": "code",
   "execution_count": 7,
   "id": "6715ce40-6b4a-4ce6-9907-450b6aa1eebe",
   "metadata": {},
   "outputs": [
    {
     "name": "stdout",
     "output_type": "stream",
     "text": [
      "      name  age       city\n",
      "0    Alice   25      Delhi\n",
      "1      Bob   30     Mumbai\n",
      "2  Charlie   35  Bangalore\n"
     ]
    }
   ],
   "source": [
    "# Creating a Dataframe\n",
    "\n",
    "\n",
    "data = {\n",
    " \"name\": [\"Alice\", \"Bob\", \"Charlie\"],\n",
    " \"age\": [25, 30, 35],\n",
    " \"city\": [\"Delhi\", \"Mumbai\", \"Bangalore\"]\n",
    " }\n",
    "df = pd.DataFrame(data)\n",
    "print(df)"
   ]
  },
  {
   "cell_type": "code",
   "execution_count": 13,
   "id": "e70fe536-9ed3-4773-b703-d391f5ec7bf0",
   "metadata": {},
   "outputs": [
    {
     "data": {
      "text/plain": [
       "RangeIndex(start=0, stop=3, step=1)"
      ]
     },
     "execution_count": 13,
     "metadata": {},
     "output_type": "execute_result"
    }
   ],
   "source": [
    "df.index       # Row labels   "
   ]
  },
  {
   "cell_type": "code",
   "execution_count": 15,
   "id": "21e9d093-58ea-4e1f-bb56-2e5ea8a4a83f",
   "metadata": {},
   "outputs": [
    {
     "data": {
      "text/plain": [
       "Index(['name', 'age', 'city'], dtype='object')"
      ]
     },
     "execution_count": 15,
     "metadata": {},
     "output_type": "execute_result"
    }
   ],
   "source": [
    "df.columns     # Column labels"
   ]
  },
  {
   "cell_type": "code",
   "execution_count": 19,
   "id": "5a32f281-526f-4ffd-9c35-d6fc5174f9da",
   "metadata": {},
   "outputs": [
    {
     "name": "stdout",
     "output_type": "stream",
     "text": [
      "                 Actor                      Film  Year            Genre  \\\n",
      "0       Shah Rukh Khan                   Pathaan  2023           Action   \n",
      "1          Salman Khan           Tiger Zinda Hai  2017           Action   \n",
      "2           Aamir Khan                    Dangal  2016        Biography   \n",
      "3        Ranbir Kapoor                Brahmastra  2022          Fantasy   \n",
      "4        Ranveer Singh                 Padmaavat  2018       Historical   \n",
      "5   Ayushmann Khurrana                 Andhadhun  2018         Thriller   \n",
      "6        Rajkummar Rao                     Stree  2018    Horror Comedy   \n",
      "7       Hrithik Roshan                       War  2019           Action   \n",
      "8         Akshay Kumar                Good Newwz  2019           Comedy   \n",
      "9        Kartik Aaryan         Bhool Bhulaiyaa 2  2022    Horror Comedy   \n",
      "10        Varun Dhawan     Badrinath Ki Dulhania  2017  Romantic Comedy   \n",
      "11       Vicky Kaushal  Uri: The Surgical Strike  2019           Action   \n",
      "\n",
      "    BoxOffice(INR Crore)  IMDb  \n",
      "0                   1050   7.2  \n",
      "1                    565   6.0  \n",
      "2                   2024   8.4  \n",
      "3                    431   5.6  \n",
      "4                    585   7.0  \n",
      "5                    111   8.3  \n",
      "6                    180   7.5  \n",
      "7                    475   6.5  \n",
      "8                    318   7.0  \n",
      "9                    266   5.9  \n",
      "10                   201   6.1  \n",
      "11                   342   8.2  \n"
     ]
    }
   ],
   "source": [
    "df = pd.read_csv(\"data.csv\")\n",
    "print(df)"
   ]
  },
  {
   "cell_type": "code",
   "execution_count": 21,
   "id": "c07285e5-5d6e-4d49-8c96-84616801c23d",
   "metadata": {},
   "outputs": [
    {
     "data": {
      "text/html": [
       "<div>\n",
       "<style scoped>\n",
       "    .dataframe tbody tr th:only-of-type {\n",
       "        vertical-align: middle;\n",
       "    }\n",
       "\n",
       "    .dataframe tbody tr th {\n",
       "        vertical-align: top;\n",
       "    }\n",
       "\n",
       "    .dataframe thead th {\n",
       "        text-align: right;\n",
       "    }\n",
       "</style>\n",
       "<table border=\"1\" class=\"dataframe\">\n",
       "  <thead>\n",
       "    <tr style=\"text-align: right;\">\n",
       "      <th></th>\n",
       "      <th>Actor</th>\n",
       "      <th>Film</th>\n",
       "      <th>Year</th>\n",
       "      <th>Genre</th>\n",
       "      <th>BoxOffice(INR Crore)</th>\n",
       "      <th>IMDb</th>\n",
       "    </tr>\n",
       "  </thead>\n",
       "  <tbody>\n",
       "    <tr>\n",
       "      <th>0</th>\n",
       "      <td>Shah Rukh Khan</td>\n",
       "      <td>Pathaan</td>\n",
       "      <td>2023</td>\n",
       "      <td>Action</td>\n",
       "      <td>1050</td>\n",
       "      <td>7.2</td>\n",
       "    </tr>\n",
       "    <tr>\n",
       "      <th>1</th>\n",
       "      <td>Salman Khan</td>\n",
       "      <td>Tiger Zinda Hai</td>\n",
       "      <td>2017</td>\n",
       "      <td>Action</td>\n",
       "      <td>565</td>\n",
       "      <td>6.0</td>\n",
       "    </tr>\n",
       "    <tr>\n",
       "      <th>2</th>\n",
       "      <td>Aamir Khan</td>\n",
       "      <td>Dangal</td>\n",
       "      <td>2016</td>\n",
       "      <td>Biography</td>\n",
       "      <td>2024</td>\n",
       "      <td>8.4</td>\n",
       "    </tr>\n",
       "    <tr>\n",
       "      <th>3</th>\n",
       "      <td>Ranbir Kapoor</td>\n",
       "      <td>Brahmastra</td>\n",
       "      <td>2022</td>\n",
       "      <td>Fantasy</td>\n",
       "      <td>431</td>\n",
       "      <td>5.6</td>\n",
       "    </tr>\n",
       "    <tr>\n",
       "      <th>4</th>\n",
       "      <td>Ranveer Singh</td>\n",
       "      <td>Padmaavat</td>\n",
       "      <td>2018</td>\n",
       "      <td>Historical</td>\n",
       "      <td>585</td>\n",
       "      <td>7.0</td>\n",
       "    </tr>\n",
       "  </tbody>\n",
       "</table>\n",
       "</div>"
      ],
      "text/plain": [
       "            Actor             Film  Year       Genre  BoxOffice(INR Crore)  \\\n",
       "0  Shah Rukh Khan          Pathaan  2023      Action                  1050   \n",
       "1     Salman Khan  Tiger Zinda Hai  2017      Action                   565   \n",
       "2      Aamir Khan           Dangal  2016   Biography                  2024   \n",
       "3   Ranbir Kapoor       Brahmastra  2022     Fantasy                   431   \n",
       "4   Ranveer Singh        Padmaavat  2018  Historical                   585   \n",
       "\n",
       "   IMDb  \n",
       "0   7.2  \n",
       "1   6.0  \n",
       "2   8.4  \n",
       "3   5.6  \n",
       "4   7.0  "
      ]
     },
     "execution_count": 21,
     "metadata": {},
     "output_type": "execute_result"
    }
   ],
   "source": [
    "# EDA (Exploratory Data Analysis)\n",
    "\n",
    "df.head(5)"
   ]
  },
  {
   "cell_type": "code",
   "execution_count": 23,
   "id": "273ab39d-f9fd-4651-b603-c9d3a7ccc595",
   "metadata": {},
   "outputs": [
    {
     "name": "stdout",
     "output_type": "stream",
     "text": [
      "<class 'pandas.core.frame.DataFrame'>\n",
      "RangeIndex: 12 entries, 0 to 11\n",
      "Data columns (total 6 columns):\n",
      " #   Column                Non-Null Count  Dtype  \n",
      "---  ------                --------------  -----  \n",
      " 0   Actor                 12 non-null     object \n",
      " 1   Film                  12 non-null     object \n",
      " 2   Year                  12 non-null     int64  \n",
      " 3   Genre                 12 non-null     object \n",
      " 4   BoxOffice(INR Crore)  12 non-null     int64  \n",
      " 5   IMDb                  12 non-null     float64\n",
      "dtypes: float64(1), int64(2), object(3)\n",
      "memory usage: 708.0+ bytes\n"
     ]
    }
   ],
   "source": [
    "df.info()"
   ]
  },
  {
   "cell_type": "code",
   "execution_count": 25,
   "id": "b2252c3e-1327-4474-80c0-91bd106e4bf6",
   "metadata": {},
   "outputs": [
    {
     "data": {
      "text/html": [
       "<div>\n",
       "<style scoped>\n",
       "    .dataframe tbody tr th:only-of-type {\n",
       "        vertical-align: middle;\n",
       "    }\n",
       "\n",
       "    .dataframe tbody tr th {\n",
       "        vertical-align: top;\n",
       "    }\n",
       "\n",
       "    .dataframe thead th {\n",
       "        text-align: right;\n",
       "    }\n",
       "</style>\n",
       "<table border=\"1\" class=\"dataframe\">\n",
       "  <thead>\n",
       "    <tr style=\"text-align: right;\">\n",
       "      <th></th>\n",
       "      <th>Year</th>\n",
       "      <th>BoxOffice(INR Crore)</th>\n",
       "      <th>IMDb</th>\n",
       "    </tr>\n",
       "  </thead>\n",
       "  <tbody>\n",
       "    <tr>\n",
       "      <th>count</th>\n",
       "      <td>12.000000</td>\n",
       "      <td>12.000000</td>\n",
       "      <td>12.000000</td>\n",
       "    </tr>\n",
       "    <tr>\n",
       "      <th>mean</th>\n",
       "      <td>2019.000000</td>\n",
       "      <td>545.666667</td>\n",
       "      <td>6.975000</td>\n",
       "    </tr>\n",
       "    <tr>\n",
       "      <th>std</th>\n",
       "      <td>2.215647</td>\n",
       "      <td>528.535942</td>\n",
       "      <td>0.981766</td>\n",
       "    </tr>\n",
       "    <tr>\n",
       "      <th>min</th>\n",
       "      <td>2016.000000</td>\n",
       "      <td>111.000000</td>\n",
       "      <td>5.600000</td>\n",
       "    </tr>\n",
       "    <tr>\n",
       "      <th>25%</th>\n",
       "      <td>2017.750000</td>\n",
       "      <td>249.750000</td>\n",
       "      <td>6.075000</td>\n",
       "    </tr>\n",
       "    <tr>\n",
       "      <th>50%</th>\n",
       "      <td>2018.500000</td>\n",
       "      <td>386.500000</td>\n",
       "      <td>7.000000</td>\n",
       "    </tr>\n",
       "    <tr>\n",
       "      <th>75%</th>\n",
       "      <td>2019.750000</td>\n",
       "      <td>570.000000</td>\n",
       "      <td>7.675000</td>\n",
       "    </tr>\n",
       "    <tr>\n",
       "      <th>max</th>\n",
       "      <td>2023.000000</td>\n",
       "      <td>2024.000000</td>\n",
       "      <td>8.400000</td>\n",
       "    </tr>\n",
       "  </tbody>\n",
       "</table>\n",
       "</div>"
      ],
      "text/plain": [
       "              Year  BoxOffice(INR Crore)       IMDb\n",
       "count    12.000000             12.000000  12.000000\n",
       "mean   2019.000000            545.666667   6.975000\n",
       "std       2.215647            528.535942   0.981766\n",
       "min    2016.000000            111.000000   5.600000\n",
       "25%    2017.750000            249.750000   6.075000\n",
       "50%    2018.500000            386.500000   7.000000\n",
       "75%    2019.750000            570.000000   7.675000\n",
       "max    2023.000000           2024.000000   8.400000"
      ]
     },
     "execution_count": 25,
     "metadata": {},
     "output_type": "execute_result"
    }
   ],
   "source": [
    "df.describe()"
   ]
  },
  {
   "cell_type": "code",
   "execution_count": 29,
   "id": "b0102c8e-fa7c-48c7-a1a4-e7b6938dc664",
   "metadata": {},
   "outputs": [
    {
     "data": {
      "text/plain": [
       "(12, 6)"
      ]
     },
     "execution_count": 29,
     "metadata": {},
     "output_type": "execute_result"
    }
   ],
   "source": [
    "df.shape"
   ]
  },
  {
   "cell_type": "code",
   "execution_count": 31,
   "id": "a8c5f39a-2343-482c-937b-9dd82a04b01e",
   "metadata": {},
   "outputs": [
    {
     "data": {
      "text/plain": [
       "2"
      ]
     },
     "execution_count": 31,
     "metadata": {},
     "output_type": "execute_result"
    }
   ],
   "source": [
    "df.ndim"
   ]
  },
  {
   "cell_type": "code",
   "execution_count": 39,
   "id": "7ab2eda4-5d4d-44ea-a11c-1502914c00aa",
   "metadata": {},
   "outputs": [
    {
     "data": {
      "text/plain": [
       "Index(['Actor', 'Film', 'Year', 'Genre', 'BoxOffice(INR Crore)', 'IMDb'], dtype='object')"
      ]
     },
     "execution_count": 39,
     "metadata": {},
     "output_type": "execute_result"
    }
   ],
   "source": [
    "df.columns"
   ]
  },
  {
   "cell_type": "markdown",
   "id": "1c1a3b90-be86-481f-bf28-9327d8e29fa2",
   "metadata": {},
   "source": [
    "#  Data Selection & Filtering"
   ]
  },
  {
   "cell_type": "code",
   "execution_count": 50,
   "id": "23319264-a6d9-4db2-9bcf-19dabe30ced5",
   "metadata": {},
   "outputs": [
    {
     "data": {
      "text/html": [
       "<div>\n",
       "<style scoped>\n",
       "    .dataframe tbody tr th:only-of-type {\n",
       "        vertical-align: middle;\n",
       "    }\n",
       "\n",
       "    .dataframe tbody tr th {\n",
       "        vertical-align: top;\n",
       "    }\n",
       "\n",
       "    .dataframe thead th {\n",
       "        text-align: right;\n",
       "    }\n",
       "</style>\n",
       "<table border=\"1\" class=\"dataframe\">\n",
       "  <thead>\n",
       "    <tr style=\"text-align: right;\">\n",
       "      <th></th>\n",
       "      <th>Film</th>\n",
       "      <th>Actor</th>\n",
       "      <th>Year</th>\n",
       "    </tr>\n",
       "  </thead>\n",
       "  <tbody>\n",
       "    <tr>\n",
       "      <th>0</th>\n",
       "      <td>Pathaan</td>\n",
       "      <td>Shah Rukh Khan</td>\n",
       "      <td>2023</td>\n",
       "    </tr>\n",
       "    <tr>\n",
       "      <th>1</th>\n",
       "      <td>Tiger Zinda Hai</td>\n",
       "      <td>Salman Khan</td>\n",
       "      <td>2017</td>\n",
       "    </tr>\n",
       "    <tr>\n",
       "      <th>2</th>\n",
       "      <td>Dangal</td>\n",
       "      <td>Aamir Khan</td>\n",
       "      <td>2016</td>\n",
       "    </tr>\n",
       "    <tr>\n",
       "      <th>3</th>\n",
       "      <td>Brahmastra</td>\n",
       "      <td>Ranbir Kapoor</td>\n",
       "      <td>2022</td>\n",
       "    </tr>\n",
       "    <tr>\n",
       "      <th>4</th>\n",
       "      <td>Padmaavat</td>\n",
       "      <td>Ranveer Singh</td>\n",
       "      <td>2018</td>\n",
       "    </tr>\n",
       "    <tr>\n",
       "      <th>5</th>\n",
       "      <td>Andhadhun</td>\n",
       "      <td>Ayushmann Khurrana</td>\n",
       "      <td>2018</td>\n",
       "    </tr>\n",
       "    <tr>\n",
       "      <th>6</th>\n",
       "      <td>Stree</td>\n",
       "      <td>Rajkummar Rao</td>\n",
       "      <td>2018</td>\n",
       "    </tr>\n",
       "    <tr>\n",
       "      <th>7</th>\n",
       "      <td>War</td>\n",
       "      <td>Hrithik Roshan</td>\n",
       "      <td>2019</td>\n",
       "    </tr>\n",
       "    <tr>\n",
       "      <th>8</th>\n",
       "      <td>Good Newwz</td>\n",
       "      <td>Akshay Kumar</td>\n",
       "      <td>2019</td>\n",
       "    </tr>\n",
       "    <tr>\n",
       "      <th>9</th>\n",
       "      <td>Bhool Bhulaiyaa 2</td>\n",
       "      <td>Kartik Aaryan</td>\n",
       "      <td>2022</td>\n",
       "    </tr>\n",
       "    <tr>\n",
       "      <th>10</th>\n",
       "      <td>Badrinath Ki Dulhania</td>\n",
       "      <td>Varun Dhawan</td>\n",
       "      <td>2017</td>\n",
       "    </tr>\n",
       "    <tr>\n",
       "      <th>11</th>\n",
       "      <td>Uri: The Surgical Strike</td>\n",
       "      <td>Vicky Kaushal</td>\n",
       "      <td>2019</td>\n",
       "    </tr>\n",
       "  </tbody>\n",
       "</table>\n",
       "</div>"
      ],
      "text/plain": [
       "                        Film               Actor  Year\n",
       "0                    Pathaan      Shah Rukh Khan  2023\n",
       "1            Tiger Zinda Hai         Salman Khan  2017\n",
       "2                     Dangal          Aamir Khan  2016\n",
       "3                 Brahmastra       Ranbir Kapoor  2022\n",
       "4                  Padmaavat       Ranveer Singh  2018\n",
       "5                  Andhadhun  Ayushmann Khurrana  2018\n",
       "6                      Stree       Rajkummar Rao  2018\n",
       "7                        War      Hrithik Roshan  2019\n",
       "8                 Good Newwz        Akshay Kumar  2019\n",
       "9          Bhool Bhulaiyaa 2       Kartik Aaryan  2022\n",
       "10     Badrinath Ki Dulhania        Varun Dhawan  2017\n",
       "11  Uri: The Surgical Strike       Vicky Kaushal  2019"
      ]
     },
     "execution_count": 50,
     "metadata": {},
     "output_type": "execute_result"
    }
   ],
   "source": [
    "#  Selecting Columns\n",
    "\n",
    "# df[\"Film\"]\n",
    "\n",
    "df[[\"Film\",\"Actor\",\"Year\"]]"
   ]
  },
  {
   "cell_type": "code",
   "execution_count": 52,
   "id": "b36389e5-fb40-4a9b-895e-be372c35e9a6",
   "metadata": {},
   "outputs": [
    {
     "data": {
      "text/plain": [
       "Actor                   Shah Rukh Khan\n",
       "Film                           Pathaan\n",
       "Year                              2023\n",
       "Genre                           Action\n",
       "BoxOffice(INR Crore)              1050\n",
       "IMDb                               7.2\n",
       "Name: 0, dtype: object"
      ]
     },
     "execution_count": 52,
     "metadata": {},
     "output_type": "execute_result"
    }
   ],
   "source": [
    "# Selecting Rows by Index\n",
    "# Use .loc[] (label-based) and .iloc[] (position-based):\n",
    "\n",
    "df.loc[0]  # First row (by label)\n",
    "df.iloc[0]  # First row (by position)"
   ]
  },
  {
   "cell_type": "code",
   "execution_count": 58,
   "id": "43f4730c-759f-494a-8b60-7aad094359a2",
   "metadata": {},
   "outputs": [
    {
     "data": {
      "text/plain": [
       "'Pathaan'"
      ]
     },
     "execution_count": 58,
     "metadata": {},
     "output_type": "execute_result"
    }
   ],
   "source": [
    "#  Select Specific Rows and Columns\n",
    "\n",
    "df.loc[0, \"Actor\"]    # Value at row 0, column 'Name'\n",
    "df.iloc[0, 1]    # Value at row 0, column at index "
   ]
  },
  {
   "cell_type": "code",
   "execution_count": null,
   "id": "5553a185-29fa-43b8-85eb-6d2bedec0bd1",
   "metadata": {},
   "outputs": [],
   "source": []
  }
 ],
 "metadata": {
  "kernelspec": {
   "display_name": "Python [conda env:base] *",
   "language": "python",
   "name": "conda-base-py"
  },
  "language_info": {
   "codemirror_mode": {
    "name": "ipython",
    "version": 3
   },
   "file_extension": ".py",
   "mimetype": "text/x-python",
   "name": "python",
   "nbconvert_exporter": "python",
   "pygments_lexer": "ipython3",
   "version": "3.12.7"
  }
 },
 "nbformat": 4,
 "nbformat_minor": 5
}
