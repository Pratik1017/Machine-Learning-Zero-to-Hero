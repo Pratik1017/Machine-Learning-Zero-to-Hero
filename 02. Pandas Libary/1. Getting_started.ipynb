{
 "cells": [
  {
   "cell_type": "raw",
   "id": "e30e10d0-ffad-45bf-84d1-3840ee7c826e",
   "metadata": {},
   "source": [
    "What is Pandas?\n",
    "Pandas is a powerful, open-source Python library used for data manipulation, cleaning, and analysis. It provides two main data structures:\n",
    "\n",
    "Series: A one-dimensional labeled array\n",
    "DataFrame: A two-dimensional labeled table (like an Excel sheet or SQL table)\n",
    "Pandas makes working with structured data fast, expressive, and flexible.\n",
    "\n",
    "If you're working with tables, spreadsheets, or CSVs in Python—Pandas is your best friend.\n"
   ]
  },
  {
   "cell_type": "raw",
   "id": "9facc912-1d97-41f9-9a27-d1854f09f2b5",
   "metadata": {},
   "source": [
    "Summary\n",
    "Use Pandas when working with structured data.\n",
    "It's the Swiss Army knife of data science.\n"
   ]
  }
 ],
 "metadata": {
  "kernelspec": {
   "display_name": "Python [conda env:base] *",
   "language": "python",
   "name": "conda-base-py"
  },
  "language_info": {
   "codemirror_mode": {
    "name": "ipython",
    "version": 3
   },
   "file_extension": ".py",
   "mimetype": "text/x-python",
   "name": "python",
   "nbconvert_exporter": "python",
   "pygments_lexer": "ipython3",
   "version": "3.12.7"
  }
 },
 "nbformat": 4,
 "nbformat_minor": 5
}
