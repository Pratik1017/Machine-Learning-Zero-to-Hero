import pandas as pd


df= pd.read_csv("data.csv")


df


df.info()


df.describe()


df.shape


df.isnull().sum()


df


df.sort_values('Year', ascending=False)


df2 = df['Year'] > 2020


df[df2]


df[df['Genre'] == 'Action']


df


df['avg_IMDb'] = df.groupby('Actor')['IMDb'].transform('mean')


df


df['IMDb'].mean()


df.groupby('Actor')['BoxOffice(INR Crore)'].max()


df2 = df[['Film','IMDb']]


df2


df2[df2['IMDb'] > 7]


df[df['Genre'] == 'Action']['Film'].count()


df['BoxOffice(INR Crore)'].sum()


df.groupby('Film')['IMDb'].min()


df[df['Year'] > 2018].shape[0]


df.sort_values('IMDb', ascending=False).head(5)[['Film', 'IMDb']]


df[df['BoxOffice(INR Crore)'] == df['BoxOffice(INR Crore)'].max()][['Actor', 'Film']]



df


df[df['IMDb'] == df['IMDb'].min()][['Actor','Film']]


df[df['Genre'] == "Horror Comedy"].shape[0]


df[df['BoxOffice(INR Crore)'] > 500].shape[0]


df[df['Year'] > 2018]['IMDb'].mean()


df[df['']]






