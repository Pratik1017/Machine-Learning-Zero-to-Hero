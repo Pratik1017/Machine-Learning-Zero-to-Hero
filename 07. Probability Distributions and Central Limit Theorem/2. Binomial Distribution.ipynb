{
 "cells": [
  {
   "cell_type": "code",
   "execution_count": 2,
   "id": "6f71e487-f3f5-4b9b-9d19-455ea074777f",
   "metadata": {},
   "outputs": [
    {
     "name": "stdout",
     "output_type": "stream",
     "text": [
      "0.2050781249999999\n"
     ]
    }
   ],
   "source": [
    "from scipy.stats import binom\n",
    "\n",
    "# Probability of exactly 6 heads in 10 tosses (p = 0.5)\n",
    "prob = binom.pmf(k=6, n=10, p=0.5)\n",
    "print(prob)  # Output: ~0.205"
   ]
  },
  {
   "cell_type": "code",
   "execution_count": null,
   "id": "0ed2d1f5-108a-4cfa-a195-335801974600",
   "metadata": {},
   "outputs": [],
   "source": []
  }
 ],
 "metadata": {
  "kernelspec": {
   "display_name": "Python [conda env:base] *",
   "language": "python",
   "name": "conda-base-py"
  },
  "language_info": {
   "codemirror_mode": {
    "name": "ipython",
    "version": 3
   },
   "file_extension": ".py",
   "mimetype": "text/x-python",
   "name": "python",
   "nbconvert_exporter": "python",
   "pygments_lexer": "ipython3",
   "version": "3.12.7"
  }
 },
 "nbformat": 4,
 "nbformat_minor": 5
}
