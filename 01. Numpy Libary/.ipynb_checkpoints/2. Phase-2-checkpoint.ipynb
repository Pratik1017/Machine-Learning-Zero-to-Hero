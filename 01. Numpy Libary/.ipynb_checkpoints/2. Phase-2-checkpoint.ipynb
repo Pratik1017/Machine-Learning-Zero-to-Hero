{
 "cells": [
  {
   "cell_type": "markdown",
   "id": "42b73782-694e-4ad8-9acd-433cba20e751",
   "metadata": {},
   "source": [
    "# Numpy Array operations\n"
   ]
  },
  {
   "cell_type": "code",
   "execution_count": 5,
   "id": "b101cc96-5128-4abb-8d34-ebb72eb3fb5b",
   "metadata": {},
   "outputs": [],
   "source": [
    "import numpy as np"
   ]
  },
  {
   "cell_type": "markdown",
   "id": "9db14efb-c84f-4e0b-b0e0-bb3420a7042f",
   "metadata": {},
   "source": [
    "#### Indexing and Slicing"
   ]
  },
  {
   "cell_type": "code",
   "execution_count": 7,
   "id": "87861c9f-a949-41a8-9dd8-7dc4504f4960",
   "metadata": {},
   "outputs": [
    {
     "name": "stdout",
     "output_type": "stream",
     "text": [
      "Basic Slicing [3 4 5 6 7]\n",
      "With Step [2 4 6 8]\n",
      "Negative indexing 8\n"
     ]
    }
   ],
   "source": [
    "arr = np.array([1, 2, 3, 4, 5, 6, 7, 8, 9, 10])\n",
    "print(\"Basic Slicing\", arr[2:7])\n",
    "print(\"With Step\", arr[1:8:2])\n",
    "print(\"Negative indexing\", arr[-3])"
   ]
  },
  {
   "cell_type": "code",
   "execution_count": 11,
   "id": "21c9812c-2e38-459e-bb27-e683ac8274c0",
   "metadata": {},
   "outputs": [
    {
     "name": "stdout",
     "output_type": "stream",
     "text": [
      "Specific element 6\n",
      "Entire row:  [4 5 6]\n",
      "Entire Column:  [2 5 8]\n"
     ]
    }
   ],
   "source": [
    "arr_2d = np.array([[1,        2,         3],   # 0th row\n",
    "                   [4,        5,         6],   # 1th row\n",
    "                   [7,        8,         9]])  # 2th row\n",
    "                # 0th Col  # 1th Col  # 2th Col\n",
    "\n",
    "print(\"Specific element\", arr_2d[1, 2])\n",
    "print(\"Entire row: \", arr_2d[1])\n",
    "print(\"Entire Column: \", arr_2d[:, 1])"
   ]
  },
  {
   "cell_type": "markdown",
   "id": "c33e32ac-dd49-4bf8-b819-b7fdd81e8682",
   "metadata": {},
   "source": [
    "#### Sorting"
   ]
  },
  {
   "cell_type": "code",
   "execution_count": 21,
   "id": "7a90e49a-301c-4758-b879-f44053e288e6",
   "metadata": {},
   "outputs": [
    {
     "name": "stdout",
     "output_type": "stream",
     "text": [
      "Sorted Array:  [1 2 3 4 5 6 8 9]\n",
      "2D Sorted Array:  [[2 4 6]\n",
      " [1 3 5]\n",
      " [2 3 6]]\n"
     ]
    }
   ],
   "source": [
    "unsorted = np.array([2,4,6,5,3,8,9,1])\n",
    "print(\"Sorted Array: \",np.sort(unsorted))\n",
    "\n",
    "arr_2d_unsorted = np.array([[2,4,6],[1,3,5],[6,3,2]])\n",
    "print(\"2D Sorted Array: \",np.sort( arr_2d_unsorted , axis=1 ))"
   ]
  },
  {
   "cell_type": "markdown",
   "id": "f87d7873-d9b9-4325-beb0-aa3b11d48cfa",
   "metadata": {},
   "source": [
    "#### Filter"
   ]
  },
  {
   "cell_type": "code",
   "execution_count": 33,
   "id": "47020811-b416-4b73-99ee-8f1ea8107184",
   "metadata": {},
   "outputs": [
    {
     "name": "stdout",
     "output_type": "stream",
     "text": [
      "Even Numbers:  [ 2  4  6  8 10]\n",
      "Odd Numbers:  [1 3 5 7 9]\n"
     ]
    }
   ],
   "source": [
    "number = np.array([1,2,3,4,5,6,7,8,9,10])\n",
    "even_num = number[number % 2 == 0]\n",
    "print(\"Even Numbers: \",even_num)\n",
    "\n",
    "odd_num = number[number % 2 == 1]\n",
    "print(\"Odd Numbers: \",odd_num)"
   ]
  },
  {
   "cell_type": "markdown",
   "id": "96508971-65fd-4110-9b61-d5e17065ec2e",
   "metadata": {},
   "source": [
    "#### Filter with mask"
   ]
  },
  {
   "cell_type": "code",
   "execution_count": 62,
   "id": "4a48eaed-3a25-40f9-a0e8-0df0b63d4492",
   "metadata": {},
   "outputs": [
    {
     "name": "stdout",
     "output_type": "stream",
     "text": [
      "Square:  [ 2  4  6  8 10 12 14 16 18 20]\n"
     ]
    }
   ],
   "source": [
    "mask = number * 2\n",
    "print(\"Square: \",mask)"
   ]
  },
  {
   "cell_type": "markdown",
   "id": "9603758c-f73a-4476-af0c-2a52a22a46bd",
   "metadata": {},
   "source": [
    "#### Fancy indexing vs np.where()"
   ]
  },
  {
   "cell_type": "code",
   "execution_count": 75,
   "id": "a50e1cfb-018a-41e7-97f5-38eae8c913f4",
   "metadata": {},
   "outputs": [
    {
     "name": "stdout",
     "output_type": "stream",
     "text": [
      "[1 3 5]\n",
      "(array([5, 6, 7, 8, 9], dtype=int64),)\n",
      "NP where [ 6  7  8  9 10]\n"
     ]
    }
   ],
   "source": [
    "indices = np.array([0,2,4])\n",
    "print(number[indices])\n",
    "\n",
    "where_result = np.where(number > 5)\n",
    "print(where_result)\n",
    "print(\"NP where\", number[where_result])"
   ]
  },
  {
   "cell_type": "code",
   "execution_count": 79,
   "id": "ad0e5159-454b-49fb-8d52-a59a39afe8f6",
   "metadata": {},
   "outputs": [
    {
     "name": "stdout",
     "output_type": "stream",
     "text": [
      "['False' 'False' 'False' 'False' 'False' 'True' 'True' 'True' 'True'\n",
      " 'True']\n"
     ]
    }
   ],
   "source": [
    "condition_array = np.where(number>5, \"True\" , \"False\")\n",
    "print(condition_array)"
   ]
  },
  {
   "cell_type": "raw",
   "id": "fb676f45-8133-45f4-adab-550bf168cb69",
   "metadata": {},
   "source": [
    "The Above np.where() code is working like this for us\n",
    "if(number>5):\n",
    "    return \"True\"\n",
    "else:\n",
    "    return \"False\""
   ]
  },
  {
   "cell_type": "markdown",
   "id": "4c70e47b-cd5a-4822-922e-012a4f8731bf",
   "metadata": {},
   "source": [
    "#### Adding and removing data"
   ]
  },
  {
   "cell_type": "code",
   "execution_count": 89,
   "id": "b70329f3-f266-490c-88e3-736d1bf11f3a",
   "metadata": {},
   "outputs": [
    {
     "name": "stdout",
     "output_type": "stream",
     "text": [
      "[1 2 3 4 5 6]\n"
     ]
    }
   ],
   "source": [
    "a = np.array([1,2,3])\n",
    "b = np.array([4,5,6])\n",
    "\n",
    "# Wrong Way to add the list...\n",
    "# added = a + b\n",
    "# print(added)\n",
    "\n",
    "added = np.concatenate((a,b))\n",
    "print(added)"
   ]
  },
  {
   "cell_type": "markdown",
   "id": "88cc6350-2346-4a1f-99b5-d1d3986140b4",
   "metadata": {},
   "source": [
    "#### array compatibilty"
   ]
  },
  {
   "cell_type": "code",
   "execution_count": 92,
   "id": "77eff4df-dc6a-480f-a28c-a511d711cc33",
   "metadata": {},
   "outputs": [
    {
     "name": "stdout",
     "output_type": "stream",
     "text": [
      "Compatibility shapes False\n"
     ]
    }
   ],
   "source": [
    "a = np.array([1, 2, 3])\n",
    "b = np.array([4, 5, 6, 7])\n",
    "c = np.array([7, 8, 9])\n",
    "\n",
    "print(\"Compatibility shapes\", a.shape == b.shape)"
   ]
  },
  {
   "cell_type": "markdown",
   "id": "396ef700-850b-4db4-b3a4-9d33fb14c964",
   "metadata": {},
   "source": [
    "#### Adding Row and Column using vstack and hstack respectively"
   ]
  },
  {
   "cell_type": "code",
   "execution_count": 101,
   "id": "1610a79c-e37e-4bf5-a8a6-e82b36658292",
   "metadata": {},
   "outputs": [
    {
     "name": "stdout",
     "output_type": "stream",
     "text": [
      "The array with row added: \n",
      " [[1 2]\n",
      " [3 4]\n",
      " [5 6]]\n",
      "The array with column added: \n",
      " [[1 2 7]\n",
      " [3 4 8]]\n"
     ]
    }
   ],
   "source": [
    "original = np.array([[1, 2], [3, 4]])\n",
    "new_row = np.array([5,6])\n",
    "new_column = np.array([[7],[8]])\n",
    "\n",
    "new_row_added = np.vstack((original , new_row))\n",
    "print(\"The array with row added: \\n\",new_row_added)\n",
    "\n",
    "new_column_added = np.hstack((original , new_column))\n",
    "print(\"The array with column added: \\n\",new_column_added)"
   ]
  },
  {
   "cell_type": "markdown",
   "id": "0679586f-d70d-44fe-b0ef-84e71ee4e6a9",
   "metadata": {},
   "source": [
    "#### Delete Opeartion"
   ]
  },
  {
   "cell_type": "code",
   "execution_count": 106,
   "id": "6f3770c1-6a08-413e-a72b-2ab4cc47a6a5",
   "metadata": {},
   "outputs": [
    {
     "name": "stdout",
     "output_type": "stream",
     "text": [
      "[2 4 6]\n"
     ]
    }
   ],
   "source": [
    "arr = np.array([2,4,5,6])\n",
    "deleted = np.delete(arr ,2)\n",
    "print(deleted)"
   ]
  }
 ],
 "metadata": {
  "kernelspec": {
   "display_name": "Python [conda env:base] *",
   "language": "python",
   "name": "conda-base-py"
  },
  "language_info": {
   "codemirror_mode": {
    "name": "ipython",
    "version": 3
   },
   "file_extension": ".py",
   "mimetype": "text/x-python",
   "name": "python",
   "nbconvert_exporter": "python",
   "pygments_lexer": "ipython3",
   "version": "3.12.7"
  }
 },
 "nbformat": 4,
 "nbformat_minor": 5
}
