{
 "cells": [
  {
   "cell_type": "markdown",
   "id": "85327151-b99f-40e9-a3a0-d8ab8010d5c7",
   "metadata": {},
   "source": [
    "### Numpy array and basics"
   ]
  },
  {
   "cell_type": "code",
   "execution_count": 15,
   "id": "703e84f9-0f21-4f12-b0ff-44c5155d0244",
   "metadata": {},
   "outputs": [],
   "source": [
    "import numpy as np"
   ]
  },
  {
   "cell_type": "markdown",
   "id": "9919282e-10f4-4a09-8c4f-49a7fe54c122",
   "metadata": {},
   "source": [
    "#### creating array from list"
   ]
  },
  {
   "cell_type": "code",
   "execution_count": 18,
   "id": "47795971-d839-4c98-9fc3-7ffaee0f3f02",
   "metadata": {},
   "outputs": [
    {
     "name": "stdout",
     "output_type": "stream",
     "text": [
      "[1 2 3 4 5 6]\n",
      "[[1 2 3 4 5 6]\n",
      " [1 2 3 4 5 6]]\n"
     ]
    }
   ],
   "source": [
    "arr_1d = np.array([1,2,3,4,5,6])\n",
    "print(arr_1d)\n",
    "\n",
    "arr_2d = np.array([[1,2,3,4,5,6],[1,2,3,4,5,6]])\n",
    "print(arr_2d)"
   ]
  },
  {
   "cell_type": "markdown",
   "id": "297fd06a-61ee-47dd-ba38-2cbaceab05dc",
   "metadata": {},
   "source": [
    "#### List vs numpy array\n"
   ]
  },
  {
   "cell_type": "code",
   "execution_count": 28,
   "id": "6336d3f4-62da-4ec9-a26b-4f3be245d74b",
   "metadata": {},
   "outputs": [],
   "source": [
    "import time"
   ]
  },
  {
   "cell_type": "code",
   "execution_count": 30,
   "id": "8b88b499-2bdf-4476-987a-88bf00b185eb",
   "metadata": {},
   "outputs": [
    {
     "name": "stdout",
     "output_type": "stream",
     "text": [
      "Python list multiplication  [1, 2, 3, 1, 2, 3]\n",
      "Python array multiplication  [2 4 6]\n",
      "\n",
      " List operation time:  0.09671473503112793\n",
      "\n",
      " Numpy operation time:  0.0021126270294189453\n"
     ]
    }
   ],
   "source": [
    "\n",
    "py_list = [1, 2, 3]\n",
    "print(\"Python list multiplication \", py_list * 2)\n",
    "\n",
    "\n",
    "np_array = np.array([1, 2, 3]) #element wise multiplication\n",
    "print(\"Python array multiplication \", np_array * 2)\n",
    "\n",
    "import time\n",
    "start = time.time()\n",
    "py_list = [i*2 for i in range(1000000)]\n",
    "print(\"\\n List operation time: \", time.time() - start)\n",
    "\n",
    "start = time.time()\n",
    "np_array = np.arange(1000000) * 2\n",
    "print(\"\\n Numpy operation time: \", time.time() - start)"
   ]
  },
  {
   "cell_type": "markdown",
   "id": "eac95f3f-f84d-44cd-b7eb-26302809cfe6",
   "metadata": {},
   "source": [
    "#### creating array from scratch\n"
   ]
  },
  {
   "cell_type": "code",
   "execution_count": 50,
   "id": "e0d0ba2e-3fd0-46a0-8e57-89485d47ee0a",
   "metadata": {},
   "outputs": [
    {
     "name": "stdout",
     "output_type": "stream",
     "text": [
      "\n",
      "Zeros Array:  [[0. 0. 0.]\n",
      " [0. 0. 0.]]\n",
      "\n",
      "Ones Array:  [[1. 1. 1. 1.]\n",
      " [1. 1. 1. 1.]\n",
      " [1. 1. 1. 1.]]\n",
      "\n",
      "Full Array:  [[4 4 4]\n",
      " [4 4 4]]\n",
      "\n",
      "Random Array:  [[0.93238721 0.49353553 0.73530268]\n",
      " [0.52533077 0.32304237 0.78695057]]\n",
      "\n",
      "squence Array:  [ 0  2  4  6  8 10]\n"
     ]
    }
   ],
   "source": [
    "zero = np.zeros((2,3))\n",
    "print(\"\\nZeros Array: \",zero)\n",
    "\n",
    "one = np.ones((3,4))\n",
    "print(\"\\nOnes Array: \",one)\n",
    "\n",
    "full = np.full((2,3),4)\n",
    "print(\"\\nFull Array: \",full)\n",
    "\n",
    "random = np.random.random((2,3))\n",
    "print(\"\\nRandom Array: \",random)\n",
    "\n",
    "squence = np.arange(0,11,2)\n",
    "print(\"\\nsquence Array: \",squence)"
   ]
  },
  {
   "cell_type": "markdown",
   "id": "e355d1c3-670f-4b7f-8130-05edaf75b738",
   "metadata": {},
   "source": [
    "#### Vector, Matrix and Tensor\n"
   ]
  },
  {
   "cell_type": "code",
   "execution_count": 75,
   "id": "bbcffa62-a352-410c-ad00-35f5d415ec8b",
   "metadata": {},
   "outputs": [
    {
     "name": "stdout",
     "output_type": "stream",
     "text": [
      "Vector Array:  [1 2 3 4 5]\n",
      "\n",
      "matrix_2d Array: \n",
      " [[1 2 3]\n",
      " [4 5 6]]\n",
      "\n",
      "Tensor:  [[[1 2]\n",
      "  [3 4]]\n",
      "\n",
      " [[5 6]\n",
      "  [7 8]]]\n"
     ]
    }
   ],
   "source": [
    "vector = np.array([1,2,3,4,5])\n",
    "print(\"Vector Array: \",vector)\n",
    "\n",
    "matrix_2d = np.array([[1,2,3],[4,5,6]])\n",
    "print(\"\\nmatrix_2d Array: \\n\",matrix_2d)\n",
    "\n",
    "tensor = np.array([[[1, 2], [3, 4]], \n",
    "                   [[5, 6], [7, 8]]])\n",
    "print(\"\\nTensor: \", tensor)"
   ]
  },
  {
   "cell_type": "markdown",
   "id": "c622e94f-3235-492c-a719-3d379ef1b134",
   "metadata": {},
   "source": [
    "#### Array properties"
   ]
  },
  {
   "cell_type": "code",
   "execution_count": 86,
   "id": "9838b9d2-fed0-4725-ae23-ce2af54544fc",
   "metadata": {},
   "outputs": [
    {
     "name": "stdout",
     "output_type": "stream",
     "text": [
      "Shape:  (2, 3)\n",
      "Size:  6\n",
      "Dtype:  int32\n",
      "Dimension:  2\n"
     ]
    }
   ],
   "source": [
    "arr = np.array([[1, 2, 3], \n",
    "                [4, 5, 6]])\n",
    "\n",
    "print(\"Shape: \",arr.shape)\n",
    "print(\"Size: \",arr.size)\n",
    "print(\"Dtype: \",arr.dtype)\n",
    "print(\"Dimension: \",arr.ndim)\n"
   ]
  },
  {
   "cell_type": "markdown",
   "id": "4e0fd66f-ee07-4428-9a0d-2eaed9e8c995",
   "metadata": {},
   "source": [
    "#### Array Reshaping\n"
   ]
  },
  {
   "cell_type": "code",
   "execution_count": 109,
   "id": "ede27cb7-5517-4851-80c0-a6339c494b9b",
   "metadata": {},
   "outputs": [
    {
     "name": "stdout",
     "output_type": "stream",
     "text": [
      "Array:  [ 0  1  2  3  4  5  6  7  8  9 10 11]\n",
      "\n",
      " Reshaped array  [[ 0  1  2  3]\n",
      " [ 4  5  6  7]\n",
      " [ 8  9 10 11]]\n",
      "\n",
      " flattened:  [ 0  1  2  3  4  5  6  7  8  9 10 11]\n",
      "\n",
      " raveled array  [ 0  1  2  3  4  5  6  7  8  9 10 11]\n",
      "\n",
      " Transposed array  [[ 0  4  8]\n",
      " [ 1  5  9]\n",
      " [ 2  6 10]\n",
      " [ 3  7 11]]\n"
     ]
    }
   ],
   "source": [
    "arr1 = np.arange(12)\n",
    "print(\"Array: \",arr1)\n",
    "\n",
    "reshaped = arr1.reshape((3, 4))\n",
    "print(\"\\n Reshaped array \", reshaped)\n",
    "\n",
    "flattened = reshaped.flatten()\n",
    "print(\"\\n flattened: \",flattened)\n",
    "\n",
    "# ravel (returns view, instead of copy)\n",
    "raveled = reshaped.ravel()\n",
    "print(\"\\n raveled array \", raveled)\n",
    "\n",
    "# Transpose\n",
    "transpose = reshaped.T\n",
    "print(\"\\n Transposed array \", transpose)"
   ]
  },
  {
   "cell_type": "code",
   "execution_count": null,
   "id": "f9d6c26a-0954-4bc5-8fbc-fdc1a2224b39",
   "metadata": {},
   "outputs": [],
   "source": []
  }
 ],
 "metadata": {
  "kernelspec": {
   "display_name": "Python [conda env:base] *",
   "language": "python",
   "name": "conda-base-py"
  },
  "language_info": {
   "codemirror_mode": {
    "name": "ipython",
    "version": 3
   },
   "file_extension": ".py",
   "mimetype": "text/x-python",
   "name": "python",
   "nbconvert_exporter": "python",
   "pygments_lexer": "ipython3",
   "version": "3.12.7"
  }
 },
 "nbformat": 4,
 "nbformat_minor": 5
}
