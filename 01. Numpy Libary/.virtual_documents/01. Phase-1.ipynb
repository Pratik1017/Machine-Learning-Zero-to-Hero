


import numpy as np





arr_1d = np.array([1,2,3,4,5,6])
print(arr_1d)

arr_2d = np.array([[1,2,3,4,5,6],[1,2,3,4,5,6]])
print(arr_2d)





import time



py_list = [1, 2, 3]
print("Python list multiplication ", py_list * 2)


np_array = np.array([1, 2, 3]) #element wise multiplication
print("Python array multiplication ", np_array * 2)

import time
start = time.time()
py_list = [i*2 for i in range(1000000)]
print("\n List operation time: ", time.time() - start)

start = time.time()
np_array = np.arange(1000000) * 2
print("\n Numpy operation time: ", time.time() - start)





zero = np.zeros((2,3))
print("\nZeros Array: ",zero)

one = np.ones((3,4))
print("\nOnes Array: ",one)

full = np.full((2,3),4)
print("\nFull Array: ",full)

random = np.random.random((2,3))
print("\nRandom Array: ",random)

squence = np.arange(0,11,2)
print("\nsquence Array: ",squence)





vector = np.array([1,2,3,4,5])
print("Vector Array: ",vector)

matrix_2d = np.array([[1,2,3],[4,5,6]])
print("\nmatrix_2d Array: \n",matrix_2d)

tensor = np.array([[[1, 2], [3, 4]], 
                   [[5, 6], [7, 8]]])
print("\nTensor: ", tensor)





arr = np.array([[1, 2, 3], 
                [4, 5, 6]])

print("Shape: ",arr.shape)
print("Size: ",arr.size)
print("Dtype: ",arr.dtype)
print("Dimension: ",arr.ndim)






arr1 = np.arange(11)
print("Array: ",arr1)



