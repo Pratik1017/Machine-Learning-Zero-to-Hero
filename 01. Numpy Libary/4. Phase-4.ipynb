{
 "cells": [
  {
   "cell_type": "code",
   "execution_count": 18,
   "id": "5dbdc726-72b6-46df-8e4c-fb9a7b7003c5",
   "metadata": {},
   "outputs": [],
   "source": [
    "import numpy as np\n",
    "import matplotlib.pyplot as plt"
   ]
  },
  {
   "cell_type": "code",
   "execution_count": 19,
   "id": "60d36421-9f1d-4acd-8d9f-5c28319b7aaf",
   "metadata": {},
   "outputs": [],
   "source": [
    "array_1 = np.array([2,3,4,5,6])\n",
    "array_2 = np.random.random((2,3))\n",
    "array_3 = np.zeros((2,3))\n",
    "\n",
    "np.save('array_1',array_1)\n",
    "np.save('array_2',array_2)\n",
    "np.save('array_3',array_3)\n"
   ]
  },
  {
   "cell_type": "code",
   "execution_count": 20,
   "id": "d08e3c24-a287-402d-8492-5def2a5d6940",
   "metadata": {},
   "outputs": [
    {
     "name": "stdout",
     "output_type": "stream",
     "text": [
      "[2 3 4 5 6]\n"
     ]
    }
   ],
   "source": [
    "loaded_arr = np.load('array_1.npy')\n",
    "print(loaded_arr)"
   ]
  },
  {
   "cell_type": "code",
   "execution_count": null,
   "id": "d5cbe119-18d8-4980-bfa4-3727e6937ab5",
   "metadata": {},
   "outputs": [],
   "source": []
  },
  {
   "cell_type": "code",
   "execution_count": null,
   "id": "318d8ecf-e04f-4dca-bd26-046ec7acd405",
   "metadata": {},
   "outputs": [],
   "source": []
  }
 ],
 "metadata": {
  "kernelspec": {
   "display_name": "Python [conda env:base] *",
   "language": "python",
   "name": "conda-base-py"
  },
  "language_info": {
   "codemirror_mode": {
    "name": "ipython",
    "version": 3
   },
   "file_extension": ".py",
   "mimetype": "text/x-python",
   "name": "python",
   "nbconvert_exporter": "python",
   "pygments_lexer": "ipython3",
   "version": "3.12.7"
  }
 },
 "nbformat": 4,
 "nbformat_minor": 5
}
